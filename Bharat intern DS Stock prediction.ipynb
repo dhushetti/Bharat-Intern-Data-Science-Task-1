{
 "cells": [
  {
   "cell_type": "code",
   "execution_count": 14,
   "id": "ac98d9ce",
   "metadata": {},
   "outputs": [],
   "source": [
    "import pandas as pd \n",
    "df=pd.read_csv('NSE-TATAGLOBAL.csv')"
   ]
  },
  {
   "cell_type": "code",
   "execution_count": 15,
   "id": "7af9bc86",
   "metadata": {},
   "outputs": [
    {
     "data": {
      "text/html": [
       "<div>\n",
       "<style scoped>\n",
       "    .dataframe tbody tr th:only-of-type {\n",
       "        vertical-align: middle;\n",
       "    }\n",
       "\n",
       "    .dataframe tbody tr th {\n",
       "        vertical-align: top;\n",
       "    }\n",
       "\n",
       "    .dataframe thead th {\n",
       "        text-align: right;\n",
       "    }\n",
       "</style>\n",
       "<table border=\"1\" class=\"dataframe\">\n",
       "  <thead>\n",
       "    <tr style=\"text-align: right;\">\n",
       "      <th></th>\n",
       "      <th>Date</th>\n",
       "      <th>Open</th>\n",
       "      <th>High</th>\n",
       "      <th>Low</th>\n",
       "      <th>Last</th>\n",
       "      <th>Close</th>\n",
       "      <th>Total Trade Quantity</th>\n",
       "      <th>Turnover (Lacs)</th>\n",
       "    </tr>\n",
       "  </thead>\n",
       "  <tbody>\n",
       "    <tr>\n",
       "      <th>0</th>\n",
       "      <td>2018-09-28</td>\n",
       "      <td>234.05</td>\n",
       "      <td>235.95</td>\n",
       "      <td>230.20</td>\n",
       "      <td>233.50</td>\n",
       "      <td>233.75</td>\n",
       "      <td>3069914</td>\n",
       "      <td>7162.35</td>\n",
       "    </tr>\n",
       "    <tr>\n",
       "      <th>1</th>\n",
       "      <td>2018-09-27</td>\n",
       "      <td>234.55</td>\n",
       "      <td>236.80</td>\n",
       "      <td>231.10</td>\n",
       "      <td>233.80</td>\n",
       "      <td>233.25</td>\n",
       "      <td>5082859</td>\n",
       "      <td>11859.95</td>\n",
       "    </tr>\n",
       "    <tr>\n",
       "      <th>2</th>\n",
       "      <td>2018-09-26</td>\n",
       "      <td>240.00</td>\n",
       "      <td>240.00</td>\n",
       "      <td>232.50</td>\n",
       "      <td>235.00</td>\n",
       "      <td>234.25</td>\n",
       "      <td>2240909</td>\n",
       "      <td>5248.60</td>\n",
       "    </tr>\n",
       "    <tr>\n",
       "      <th>3</th>\n",
       "      <td>2018-09-25</td>\n",
       "      <td>233.30</td>\n",
       "      <td>236.75</td>\n",
       "      <td>232.00</td>\n",
       "      <td>236.25</td>\n",
       "      <td>236.10</td>\n",
       "      <td>2349368</td>\n",
       "      <td>5503.90</td>\n",
       "    </tr>\n",
       "    <tr>\n",
       "      <th>4</th>\n",
       "      <td>2018-09-24</td>\n",
       "      <td>233.55</td>\n",
       "      <td>239.20</td>\n",
       "      <td>230.75</td>\n",
       "      <td>234.00</td>\n",
       "      <td>233.30</td>\n",
       "      <td>3423509</td>\n",
       "      <td>7999.55</td>\n",
       "    </tr>\n",
       "  </tbody>\n",
       "</table>\n",
       "</div>"
      ],
      "text/plain": [
       "         Date    Open    High     Low    Last   Close  Total Trade Quantity  \\\n",
       "0  2018-09-28  234.05  235.95  230.20  233.50  233.75               3069914   \n",
       "1  2018-09-27  234.55  236.80  231.10  233.80  233.25               5082859   \n",
       "2  2018-09-26  240.00  240.00  232.50  235.00  234.25               2240909   \n",
       "3  2018-09-25  233.30  236.75  232.00  236.25  236.10               2349368   \n",
       "4  2018-09-24  233.55  239.20  230.75  234.00  233.30               3423509   \n",
       "\n",
       "   Turnover (Lacs)  \n",
       "0          7162.35  \n",
       "1         11859.95  \n",
       "2          5248.60  \n",
       "3          5503.90  \n",
       "4          7999.55  "
      ]
     },
     "execution_count": 15,
     "metadata": {},
     "output_type": "execute_result"
    }
   ],
   "source": [
    "df.head()"
   ]
  },
  {
   "cell_type": "code",
   "execution_count": 16,
   "id": "e99d4b1f",
   "metadata": {},
   "outputs": [
    {
     "data": {
      "text/html": [
       "<div>\n",
       "<style scoped>\n",
       "    .dataframe tbody tr th:only-of-type {\n",
       "        vertical-align: middle;\n",
       "    }\n",
       "\n",
       "    .dataframe tbody tr th {\n",
       "        vertical-align: top;\n",
       "    }\n",
       "\n",
       "    .dataframe thead th {\n",
       "        text-align: right;\n",
       "    }\n",
       "</style>\n",
       "<table border=\"1\" class=\"dataframe\">\n",
       "  <thead>\n",
       "    <tr style=\"text-align: right;\">\n",
       "      <th></th>\n",
       "      <th>Date</th>\n",
       "      <th>Open</th>\n",
       "      <th>High</th>\n",
       "      <th>Low</th>\n",
       "      <th>Last</th>\n",
       "      <th>Close</th>\n",
       "      <th>Total Trade Quantity</th>\n",
       "      <th>Turnover (Lacs)</th>\n",
       "    </tr>\n",
       "  </thead>\n",
       "  <tbody>\n",
       "    <tr>\n",
       "      <th>2030</th>\n",
       "      <td>2010-07-27</td>\n",
       "      <td>117.6</td>\n",
       "      <td>119.50</td>\n",
       "      <td>112.00</td>\n",
       "      <td>118.80</td>\n",
       "      <td>118.65</td>\n",
       "      <td>586100</td>\n",
       "      <td>694.98</td>\n",
       "    </tr>\n",
       "    <tr>\n",
       "      <th>2031</th>\n",
       "      <td>2010-07-26</td>\n",
       "      <td>120.1</td>\n",
       "      <td>121.00</td>\n",
       "      <td>117.10</td>\n",
       "      <td>117.10</td>\n",
       "      <td>117.60</td>\n",
       "      <td>658440</td>\n",
       "      <td>780.01</td>\n",
       "    </tr>\n",
       "    <tr>\n",
       "      <th>2032</th>\n",
       "      <td>2010-07-23</td>\n",
       "      <td>121.8</td>\n",
       "      <td>121.95</td>\n",
       "      <td>120.25</td>\n",
       "      <td>120.35</td>\n",
       "      <td>120.65</td>\n",
       "      <td>281312</td>\n",
       "      <td>340.31</td>\n",
       "    </tr>\n",
       "    <tr>\n",
       "      <th>2033</th>\n",
       "      <td>2010-07-22</td>\n",
       "      <td>120.3</td>\n",
       "      <td>122.00</td>\n",
       "      <td>120.25</td>\n",
       "      <td>120.75</td>\n",
       "      <td>120.90</td>\n",
       "      <td>293312</td>\n",
       "      <td>355.17</td>\n",
       "    </tr>\n",
       "    <tr>\n",
       "      <th>2034</th>\n",
       "      <td>2010-07-21</td>\n",
       "      <td>122.1</td>\n",
       "      <td>123.00</td>\n",
       "      <td>121.05</td>\n",
       "      <td>121.10</td>\n",
       "      <td>121.55</td>\n",
       "      <td>658666</td>\n",
       "      <td>803.56</td>\n",
       "    </tr>\n",
       "  </tbody>\n",
       "</table>\n",
       "</div>"
      ],
      "text/plain": [
       "            Date   Open    High     Low    Last   Close  Total Trade Quantity  \\\n",
       "2030  2010-07-27  117.6  119.50  112.00  118.80  118.65                586100   \n",
       "2031  2010-07-26  120.1  121.00  117.10  117.10  117.60                658440   \n",
       "2032  2010-07-23  121.8  121.95  120.25  120.35  120.65                281312   \n",
       "2033  2010-07-22  120.3  122.00  120.25  120.75  120.90                293312   \n",
       "2034  2010-07-21  122.1  123.00  121.05  121.10  121.55                658666   \n",
       "\n",
       "      Turnover (Lacs)  \n",
       "2030           694.98  \n",
       "2031           780.01  \n",
       "2032           340.31  \n",
       "2033           355.17  \n",
       "2034           803.56  "
      ]
     },
     "execution_count": 16,
     "metadata": {},
     "output_type": "execute_result"
    }
   ],
   "source": [
    "df.tail()"
   ]
  },
  {
   "cell_type": "code",
   "execution_count": 17,
   "id": "fdecf547",
   "metadata": {},
   "outputs": [
    {
     "data": {
      "text/plain": [
       "(2035, 8)"
      ]
     },
     "execution_count": 17,
     "metadata": {},
     "output_type": "execute_result"
    }
   ],
   "source": [
    "df.shape"
   ]
  },
  {
   "cell_type": "code",
   "execution_count": 18,
   "id": "1774b49a",
   "metadata": {},
   "outputs": [
    {
     "data": {
      "text/plain": [
       "Date                    0\n",
       "Open                    0\n",
       "High                    0\n",
       "Low                     0\n",
       "Last                    0\n",
       "Close                   0\n",
       "Total Trade Quantity    0\n",
       "Turnover (Lacs)         0\n",
       "dtype: int64"
      ]
     },
     "execution_count": 18,
     "metadata": {},
     "output_type": "execute_result"
    }
   ],
   "source": [
    "df.isnull().sum()"
   ]
  },
  {
   "cell_type": "code",
   "execution_count": 19,
   "id": "8ecebd8d",
   "metadata": {},
   "outputs": [
    {
     "name": "stdout",
     "output_type": "stream",
     "text": [
      "<class 'pandas.core.frame.DataFrame'>\n",
      "RangeIndex: 2035 entries, 0 to 2034\n",
      "Data columns (total 8 columns):\n",
      " #   Column                Non-Null Count  Dtype  \n",
      "---  ------                --------------  -----  \n",
      " 0   Date                  2035 non-null   object \n",
      " 1   Open                  2035 non-null   float64\n",
      " 2   High                  2035 non-null   float64\n",
      " 3   Low                   2035 non-null   float64\n",
      " 4   Last                  2035 non-null   float64\n",
      " 5   Close                 2035 non-null   float64\n",
      " 6   Total Trade Quantity  2035 non-null   int64  \n",
      " 7   Turnover (Lacs)       2035 non-null   float64\n",
      "dtypes: float64(6), int64(1), object(1)\n",
      "memory usage: 127.3+ KB\n"
     ]
    }
   ],
   "source": [
    "df.info()"
   ]
  },
  {
   "cell_type": "code",
   "execution_count": 21,
   "id": "9ae18e22",
   "metadata": {
    "scrolled": true
   },
   "outputs": [
    {
     "data": {
      "text/html": [
       "<div>\n",
       "<style scoped>\n",
       "    .dataframe tbody tr th:only-of-type {\n",
       "        vertical-align: middle;\n",
       "    }\n",
       "\n",
       "    .dataframe tbody tr th {\n",
       "        vertical-align: top;\n",
       "    }\n",
       "\n",
       "    .dataframe thead th {\n",
       "        text-align: right;\n",
       "    }\n",
       "</style>\n",
       "<table border=\"1\" class=\"dataframe\">\n",
       "  <thead>\n",
       "    <tr style=\"text-align: right;\">\n",
       "      <th></th>\n",
       "      <th>Date</th>\n",
       "      <th>Open</th>\n",
       "      <th>High</th>\n",
       "      <th>Low</th>\n",
       "      <th>Last</th>\n",
       "      <th>Close</th>\n",
       "      <th>Total Trade Quantity</th>\n",
       "      <th>Turnover (Lacs)</th>\n",
       "    </tr>\n",
       "  </thead>\n",
       "  <tbody>\n",
       "    <tr>\n",
       "      <th>1699</th>\n",
       "      <td>2011-11-23</td>\n",
       "      <td>82.60</td>\n",
       "      <td>82.80</td>\n",
       "      <td>80.30</td>\n",
       "      <td>81.00</td>\n",
       "      <td>80.95</td>\n",
       "      <td>1088448</td>\n",
       "      <td>886.44</td>\n",
       "    </tr>\n",
       "    <tr>\n",
       "      <th>1697</th>\n",
       "      <td>2011-11-25</td>\n",
       "      <td>82.40</td>\n",
       "      <td>83.00</td>\n",
       "      <td>81.10</td>\n",
       "      <td>81.60</td>\n",
       "      <td>81.55</td>\n",
       "      <td>1090160</td>\n",
       "      <td>896.31</td>\n",
       "    </tr>\n",
       "    <tr>\n",
       "      <th>1698</th>\n",
       "      <td>2011-11-24</td>\n",
       "      <td>81.10</td>\n",
       "      <td>83.40</td>\n",
       "      <td>80.00</td>\n",
       "      <td>83.40</td>\n",
       "      <td>82.40</td>\n",
       "      <td>1288429</td>\n",
       "      <td>1058.14</td>\n",
       "    </tr>\n",
       "    <tr>\n",
       "      <th>1700</th>\n",
       "      <td>2011-11-22</td>\n",
       "      <td>82.10</td>\n",
       "      <td>83.45</td>\n",
       "      <td>81.55</td>\n",
       "      <td>83.05</td>\n",
       "      <td>82.70</td>\n",
       "      <td>540870</td>\n",
       "      <td>447.10</td>\n",
       "    </tr>\n",
       "    <tr>\n",
       "      <th>1729</th>\n",
       "      <td>2011-10-07</td>\n",
       "      <td>82.55</td>\n",
       "      <td>83.50</td>\n",
       "      <td>82.10</td>\n",
       "      <td>82.60</td>\n",
       "      <td>82.55</td>\n",
       "      <td>845994</td>\n",
       "      <td>701.08</td>\n",
       "    </tr>\n",
       "    <tr>\n",
       "      <th>1730</th>\n",
       "      <td>2011-10-05</td>\n",
       "      <td>83.50</td>\n",
       "      <td>83.70</td>\n",
       "      <td>80.50</td>\n",
       "      <td>81.10</td>\n",
       "      <td>81.10</td>\n",
       "      <td>585464</td>\n",
       "      <td>479.96</td>\n",
       "    </tr>\n",
       "    <tr>\n",
       "      <th>1702</th>\n",
       "      <td>2011-11-18</td>\n",
       "      <td>82.20</td>\n",
       "      <td>83.75</td>\n",
       "      <td>81.20</td>\n",
       "      <td>83.50</td>\n",
       "      <td>82.60</td>\n",
       "      <td>542006</td>\n",
       "      <td>444.61</td>\n",
       "    </tr>\n",
       "    <tr>\n",
       "      <th>1701</th>\n",
       "      <td>2011-11-21</td>\n",
       "      <td>82.50</td>\n",
       "      <td>83.85</td>\n",
       "      <td>81.00</td>\n",
       "      <td>82.20</td>\n",
       "      <td>82.00</td>\n",
       "      <td>518836</td>\n",
       "      <td>428.17</td>\n",
       "    </tr>\n",
       "    <tr>\n",
       "      <th>1696</th>\n",
       "      <td>2011-11-28</td>\n",
       "      <td>82.25</td>\n",
       "      <td>84.30</td>\n",
       "      <td>82.25</td>\n",
       "      <td>83.45</td>\n",
       "      <td>83.75</td>\n",
       "      <td>657439</td>\n",
       "      <td>549.43</td>\n",
       "    </tr>\n",
       "    <tr>\n",
       "      <th>1731</th>\n",
       "      <td>2011-10-04</td>\n",
       "      <td>84.40</td>\n",
       "      <td>84.85</td>\n",
       "      <td>82.40</td>\n",
       "      <td>82.75</td>\n",
       "      <td>82.90</td>\n",
       "      <td>711092</td>\n",
       "      <td>592.83</td>\n",
       "    </tr>\n",
       "  </tbody>\n",
       "</table>\n",
       "</div>"
      ],
      "text/plain": [
       "            Date   Open   High    Low   Last  Close  Total Trade Quantity  \\\n",
       "1699  2011-11-23  82.60  82.80  80.30  81.00  80.95               1088448   \n",
       "1697  2011-11-25  82.40  83.00  81.10  81.60  81.55               1090160   \n",
       "1698  2011-11-24  81.10  83.40  80.00  83.40  82.40               1288429   \n",
       "1700  2011-11-22  82.10  83.45  81.55  83.05  82.70                540870   \n",
       "1729  2011-10-07  82.55  83.50  82.10  82.60  82.55                845994   \n",
       "1730  2011-10-05  83.50  83.70  80.50  81.10  81.10                585464   \n",
       "1702  2011-11-18  82.20  83.75  81.20  83.50  82.60                542006   \n",
       "1701  2011-11-21  82.50  83.85  81.00  82.20  82.00                518836   \n",
       "1696  2011-11-28  82.25  84.30  82.25  83.45  83.75                657439   \n",
       "1731  2011-10-04  84.40  84.85  82.40  82.75  82.90                711092   \n",
       "\n",
       "      Turnover (Lacs)  \n",
       "1699           886.44  \n",
       "1697           896.31  \n",
       "1698          1058.14  \n",
       "1700           447.10  \n",
       "1729           701.08  \n",
       "1730           479.96  \n",
       "1702           444.61  \n",
       "1701           428.17  \n",
       "1696           549.43  \n",
       "1731           592.83  "
      ]
     },
     "execution_count": 21,
     "metadata": {},
     "output_type": "execute_result"
    }
   ],
   "source": [
    "sorted_df=df.sort_values('High',ascending=True).head(10)\n",
    "sorted_df"
   ]
  },
  {
   "cell_type": "code",
   "execution_count": 25,
   "id": "28b8b90b",
   "metadata": {},
   "outputs": [
    {
     "data": {
      "text/html": [
       "<div>\n",
       "<style scoped>\n",
       "    .dataframe tbody tr th:only-of-type {\n",
       "        vertical-align: middle;\n",
       "    }\n",
       "\n",
       "    .dataframe tbody tr th {\n",
       "        vertical-align: top;\n",
       "    }\n",
       "\n",
       "    .dataframe thead th {\n",
       "        text-align: right;\n",
       "    }\n",
       "</style>\n",
       "<table border=\"1\" class=\"dataframe\">\n",
       "  <thead>\n",
       "    <tr style=\"text-align: right;\">\n",
       "      <th></th>\n",
       "      <th>Date</th>\n",
       "      <th>Open</th>\n",
       "      <th>High</th>\n",
       "      <th>Low</th>\n",
       "      <th>Last</th>\n",
       "      <th>Close</th>\n",
       "      <th>Total Trade Quantity</th>\n",
       "      <th>Turnover (Lacs)</th>\n",
       "    </tr>\n",
       "  </thead>\n",
       "  <tbody>\n",
       "    <tr>\n",
       "      <th>1698</th>\n",
       "      <td>2011-11-24</td>\n",
       "      <td>81.10</td>\n",
       "      <td>83.40</td>\n",
       "      <td>80.00</td>\n",
       "      <td>83.40</td>\n",
       "      <td>82.40</td>\n",
       "      <td>1288429</td>\n",
       "      <td>1058.14</td>\n",
       "    </tr>\n",
       "    <tr>\n",
       "      <th>1699</th>\n",
       "      <td>2011-11-23</td>\n",
       "      <td>82.60</td>\n",
       "      <td>82.80</td>\n",
       "      <td>80.30</td>\n",
       "      <td>81.00</td>\n",
       "      <td>80.95</td>\n",
       "      <td>1088448</td>\n",
       "      <td>886.44</td>\n",
       "    </tr>\n",
       "    <tr>\n",
       "      <th>1730</th>\n",
       "      <td>2011-10-05</td>\n",
       "      <td>83.50</td>\n",
       "      <td>83.70</td>\n",
       "      <td>80.50</td>\n",
       "      <td>81.10</td>\n",
       "      <td>81.10</td>\n",
       "      <td>585464</td>\n",
       "      <td>479.96</td>\n",
       "    </tr>\n",
       "    <tr>\n",
       "      <th>1701</th>\n",
       "      <td>2011-11-21</td>\n",
       "      <td>82.50</td>\n",
       "      <td>83.85</td>\n",
       "      <td>81.00</td>\n",
       "      <td>82.20</td>\n",
       "      <td>82.00</td>\n",
       "      <td>518836</td>\n",
       "      <td>428.17</td>\n",
       "    </tr>\n",
       "    <tr>\n",
       "      <th>1697</th>\n",
       "      <td>2011-11-25</td>\n",
       "      <td>82.40</td>\n",
       "      <td>83.00</td>\n",
       "      <td>81.10</td>\n",
       "      <td>81.60</td>\n",
       "      <td>81.55</td>\n",
       "      <td>1090160</td>\n",
       "      <td>896.31</td>\n",
       "    </tr>\n",
       "    <tr>\n",
       "      <th>1703</th>\n",
       "      <td>2011-11-17</td>\n",
       "      <td>84.00</td>\n",
       "      <td>85.45</td>\n",
       "      <td>81.20</td>\n",
       "      <td>82.40</td>\n",
       "      <td>82.50</td>\n",
       "      <td>1062728</td>\n",
       "      <td>887.56</td>\n",
       "    </tr>\n",
       "    <tr>\n",
       "      <th>1702</th>\n",
       "      <td>2011-11-18</td>\n",
       "      <td>82.20</td>\n",
       "      <td>83.75</td>\n",
       "      <td>81.20</td>\n",
       "      <td>83.50</td>\n",
       "      <td>82.60</td>\n",
       "      <td>542006</td>\n",
       "      <td>444.61</td>\n",
       "    </tr>\n",
       "    <tr>\n",
       "      <th>1694</th>\n",
       "      <td>2011-11-30</td>\n",
       "      <td>83.95</td>\n",
       "      <td>85.20</td>\n",
       "      <td>81.30</td>\n",
       "      <td>83.80</td>\n",
       "      <td>83.95</td>\n",
       "      <td>2480580</td>\n",
       "      <td>2069.06</td>\n",
       "    </tr>\n",
       "    <tr>\n",
       "      <th>1700</th>\n",
       "      <td>2011-11-22</td>\n",
       "      <td>82.10</td>\n",
       "      <td>83.45</td>\n",
       "      <td>81.55</td>\n",
       "      <td>83.05</td>\n",
       "      <td>82.70</td>\n",
       "      <td>540870</td>\n",
       "      <td>447.10</td>\n",
       "    </tr>\n",
       "    <tr>\n",
       "      <th>1729</th>\n",
       "      <td>2011-10-07</td>\n",
       "      <td>82.55</td>\n",
       "      <td>83.50</td>\n",
       "      <td>82.10</td>\n",
       "      <td>82.60</td>\n",
       "      <td>82.55</td>\n",
       "      <td>845994</td>\n",
       "      <td>701.08</td>\n",
       "    </tr>\n",
       "  </tbody>\n",
       "</table>\n",
       "</div>"
      ],
      "text/plain": [
       "            Date   Open   High    Low   Last  Close  Total Trade Quantity  \\\n",
       "1698  2011-11-24  81.10  83.40  80.00  83.40  82.40               1288429   \n",
       "1699  2011-11-23  82.60  82.80  80.30  81.00  80.95               1088448   \n",
       "1730  2011-10-05  83.50  83.70  80.50  81.10  81.10                585464   \n",
       "1701  2011-11-21  82.50  83.85  81.00  82.20  82.00                518836   \n",
       "1697  2011-11-25  82.40  83.00  81.10  81.60  81.55               1090160   \n",
       "1703  2011-11-17  84.00  85.45  81.20  82.40  82.50               1062728   \n",
       "1702  2011-11-18  82.20  83.75  81.20  83.50  82.60                542006   \n",
       "1694  2011-11-30  83.95  85.20  81.30  83.80  83.95               2480580   \n",
       "1700  2011-11-22  82.10  83.45  81.55  83.05  82.70                540870   \n",
       "1729  2011-10-07  82.55  83.50  82.10  82.60  82.55                845994   \n",
       "\n",
       "      Turnover (Lacs)  \n",
       "1698          1058.14  \n",
       "1699           886.44  \n",
       "1730           479.96  \n",
       "1701           428.17  \n",
       "1697           896.31  \n",
       "1703           887.56  \n",
       "1702           444.61  \n",
       "1694          2069.06  \n",
       "1700           447.10  \n",
       "1729           701.08  "
      ]
     },
     "execution_count": 25,
     "metadata": {},
     "output_type": "execute_result"
    }
   ],
   "source": [
    "sorted_df=df.sort_values('Low',ascending=True).head(10)\n",
    "sorted_df"
   ]
  },
  {
   "cell_type": "code",
   "execution_count": 22,
   "id": "76fc39ce",
   "metadata": {},
   "outputs": [
    {
     "data": {
      "text/plain": [
       "<bound method DataFrame.transpose of               Open         High          Low         Last       Close  \\\n",
       "count  2035.000000  2035.000000  2035.000000  2035.000000  2035.00000   \n",
       "mean    149.713735   151.992826   147.293931   149.474251   149.45027   \n",
       "std      48.664509    49.413109    47.931958    48.732570    48.71204   \n",
       "min      81.100000    82.800000    80.000000    81.000000    80.95000   \n",
       "25%     120.025000   122.100000   118.300000   120.075000   120.05000   \n",
       "50%     141.500000   143.400000   139.600000   141.100000   141.25000   \n",
       "75%     157.175000   159.400000   155.150000   156.925000   156.90000   \n",
       "max     327.700000   328.750000   321.650000   325.950000   325.75000   \n",
       "\n",
       "       Total Trade Quantity  Turnover (Lacs)  \n",
       "count          2.035000e+03      2035.000000  \n",
       "mean           2.335681e+06      3899.980565  \n",
       "std            2.091778e+06      4570.767877  \n",
       "min            3.961000e+04        37.040000  \n",
       "25%            1.146444e+06      1427.460000  \n",
       "50%            1.783456e+06      2512.030000  \n",
       "75%            2.813594e+06      4539.015000  \n",
       "max            2.919102e+07     55755.080000  >"
      ]
     },
     "execution_count": 22,
     "metadata": {},
     "output_type": "execute_result"
    }
   ],
   "source": [
    "df.describe().transpose"
   ]
  },
  {
   "cell_type": "code",
   "execution_count": 13,
   "id": "07007806",
   "metadata": {},
   "outputs": [],
   "source": [
    "import seaborn as sns\n",
    "import matplotlib.pyplot as plt"
   ]
  },
  {
   "cell_type": "code",
   "execution_count": 23,
   "id": "eaadc9bf",
   "metadata": {},
   "outputs": [
    {
     "data": {
      "image/png": "[encoded data removed]",
      "text/plain": [
       "<Figure size 640x480 with 1 Axes>"
      ]
     },
     "metadata": {},
     "output_type": "display_data"
    }
   ],
   "source": [
    "sns.countplot(df.High)\n",
    "df.xlabel='High'\n",
    "df.ylabel='Count'"
   ]
  },
  {
   "cell_type": "code",
   "execution_count": 24,
   "id": "643478e4",
   "metadata": {},
   "outputs": [
    {
     "data": {
      "text/plain": [
       "<Axes: xlabel='High', ylabel='Count'>"
      ]
     },
     "execution_count": 24,
     "metadata": {},
     "output_type": "execute_result"
    },
    {
     "data": {
      "image/png": "[encoded data removed]",
      "text/plain": [
       "<Figure size 640x480 with 1 Axes>"
      ]
     },
     "metadata": {},
     "output_type": "display_data"
    }
   ],
   "source": [
    "sns.histplot(df.High)"
   ]
  },
  {
   "cell_type": "code",
   "execution_count": 27,
   "id": "8a03f687",
   "metadata": {},
   "outputs": [
    {
     "data": {
      "image/png": "[encoded data removed]",
      "text/plain": [
       "<Figure size 640x480 with 1 Axes>"
      ]
     },
     "metadata": {},
     "output_type": "display_data"
    }
   ],
   "source": [
    "sns.countplot(df.Low)\n",
    "df.xlabel='Low'\n",
    "df.ylabel='Count'"
   ]
  },
  {
   "cell_type": "code",
   "execution_count": 28,
   "id": "23f0eb33",
   "metadata": {},
   "outputs": [
    {
     "data": {
      "text/plain": [
       "<Axes: xlabel='Low', ylabel='Count'>"
      ]
     },
     "execution_count": 28,
     "metadata": {},
     "output_type": "execute_result"
    },
    {
     "data": {
      "image/png": "[encoded data removed]",
      "text/plain": [
       "<Figure size 640x480 with 1 Axes>"
      ]
     },
     "metadata": {},
     "output_type": "display_data"
    }
   ],
   "source": [
    "sns.histplot(df.Low)"
   ]
  },
  {
   "cell_type": "code",
   "execution_count": null,
   "id": "8a71d7cc",
   "metadata": {},
   "outputs": [],
   "source": []
  }
 ],
 "metadata": {
  "kernelspec": {
   "display_name": "Python 3 (ipykernel)",
   "language": "python",
   "name": "python3"
  },
  "language_info": {
   "codemirror_mode": {
    "name": "ipython",
    "version": 3
   },
   "file_extension": ".py",
   "mimetype": "text/x-python",
   "name": "python",
   "nbconvert_exporter": "python",
   "pygments_lexer": "ipython3",
   "version": "3.11.5"
  }
 },
 "nbformat": 4,
 "nbformat_minor": 5
}
